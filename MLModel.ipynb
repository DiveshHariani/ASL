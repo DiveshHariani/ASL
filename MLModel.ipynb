{
 "cells": [
  {
   "cell_type": "code",
   "execution_count": 1,
   "metadata": {},
   "outputs": [],
   "source": [
    "import pandas as pd\n",
    "from sklearn.model_selection import train_test_split\n",
    "from sklearn.metrics import precision_recall_fscore_support\n",
    "from sklearn.neighbors import KNeighborsClassifier\n",
    "from sklearn.tree import DecisionTreeClassifier\n",
    "from sklearn.svm import SVC"
   ]
  },
  {
   "cell_type": "code",
   "execution_count": 2,
   "metadata": {},
   "outputs": [
    {
     "data": {
      "text/html": [
       "<div>\n",
       "<style scoped>\n",
       "    .dataframe tbody tr th:only-of-type {\n",
       "        vertical-align: middle;\n",
       "    }\n",
       "\n",
       "    .dataframe tbody tr th {\n",
       "        vertical-align: top;\n",
       "    }\n",
       "\n",
       "    .dataframe thead th {\n",
       "        text-align: right;\n",
       "    }\n",
       "</style>\n",
       "<table border=\"1\" class=\"dataframe\">\n",
       "  <thead>\n",
       "    <tr style=\"text-align: right;\">\n",
       "      <th></th>\n",
       "      <th>label</th>\n",
       "      <th>left_x1</th>\n",
       "      <th>left_y1</th>\n",
       "      <th>left_z1</th>\n",
       "      <th>left_x2</th>\n",
       "      <th>left_y2</th>\n",
       "      <th>left_z2</th>\n",
       "      <th>left_x3</th>\n",
       "      <th>left_y3</th>\n",
       "      <th>left_z3</th>\n",
       "      <th>...</th>\n",
       "      <th>right_z18</th>\n",
       "      <th>right_x19</th>\n",
       "      <th>right_y19</th>\n",
       "      <th>right_z19</th>\n",
       "      <th>right_x20</th>\n",
       "      <th>right_y20</th>\n",
       "      <th>right_z20</th>\n",
       "      <th>right_x21</th>\n",
       "      <th>right_y21</th>\n",
       "      <th>right_z21</th>\n",
       "    </tr>\n",
       "  </thead>\n",
       "  <tbody>\n",
       "    <tr>\n",
       "      <th>0</th>\n",
       "      <td>One</td>\n",
       "      <td>NaN</td>\n",
       "      <td>NaN</td>\n",
       "      <td>NaN</td>\n",
       "      <td>NaN</td>\n",
       "      <td>NaN</td>\n",
       "      <td>NaN</td>\n",
       "      <td>NaN</td>\n",
       "      <td>NaN</td>\n",
       "      <td>NaN</td>\n",
       "      <td>...</td>\n",
       "      <td>NaN</td>\n",
       "      <td>NaN</td>\n",
       "      <td>NaN</td>\n",
       "      <td>NaN</td>\n",
       "      <td>NaN</td>\n",
       "      <td>NaN</td>\n",
       "      <td>NaN</td>\n",
       "      <td>NaN</td>\n",
       "      <td>NaN</td>\n",
       "      <td>NaN</td>\n",
       "    </tr>\n",
       "    <tr>\n",
       "      <th>1</th>\n",
       "      <td>One</td>\n",
       "      <td>NaN</td>\n",
       "      <td>NaN</td>\n",
       "      <td>NaN</td>\n",
       "      <td>NaN</td>\n",
       "      <td>NaN</td>\n",
       "      <td>NaN</td>\n",
       "      <td>NaN</td>\n",
       "      <td>NaN</td>\n",
       "      <td>NaN</td>\n",
       "      <td>...</td>\n",
       "      <td>NaN</td>\n",
       "      <td>NaN</td>\n",
       "      <td>NaN</td>\n",
       "      <td>NaN</td>\n",
       "      <td>NaN</td>\n",
       "      <td>NaN</td>\n",
       "      <td>NaN</td>\n",
       "      <td>NaN</td>\n",
       "      <td>NaN</td>\n",
       "      <td>NaN</td>\n",
       "    </tr>\n",
       "    <tr>\n",
       "      <th>2</th>\n",
       "      <td>One</td>\n",
       "      <td>NaN</td>\n",
       "      <td>NaN</td>\n",
       "      <td>NaN</td>\n",
       "      <td>NaN</td>\n",
       "      <td>NaN</td>\n",
       "      <td>NaN</td>\n",
       "      <td>NaN</td>\n",
       "      <td>NaN</td>\n",
       "      <td>NaN</td>\n",
       "      <td>...</td>\n",
       "      <td>NaN</td>\n",
       "      <td>NaN</td>\n",
       "      <td>NaN</td>\n",
       "      <td>NaN</td>\n",
       "      <td>NaN</td>\n",
       "      <td>NaN</td>\n",
       "      <td>NaN</td>\n",
       "      <td>NaN</td>\n",
       "      <td>NaN</td>\n",
       "      <td>NaN</td>\n",
       "    </tr>\n",
       "    <tr>\n",
       "      <th>3</th>\n",
       "      <td>One</td>\n",
       "      <td>NaN</td>\n",
       "      <td>NaN</td>\n",
       "      <td>NaN</td>\n",
       "      <td>NaN</td>\n",
       "      <td>NaN</td>\n",
       "      <td>NaN</td>\n",
       "      <td>NaN</td>\n",
       "      <td>NaN</td>\n",
       "      <td>NaN</td>\n",
       "      <td>...</td>\n",
       "      <td>NaN</td>\n",
       "      <td>NaN</td>\n",
       "      <td>NaN</td>\n",
       "      <td>NaN</td>\n",
       "      <td>NaN</td>\n",
       "      <td>NaN</td>\n",
       "      <td>NaN</td>\n",
       "      <td>NaN</td>\n",
       "      <td>NaN</td>\n",
       "      <td>NaN</td>\n",
       "    </tr>\n",
       "    <tr>\n",
       "      <th>4</th>\n",
       "      <td>One</td>\n",
       "      <td>NaN</td>\n",
       "      <td>NaN</td>\n",
       "      <td>NaN</td>\n",
       "      <td>NaN</td>\n",
       "      <td>NaN</td>\n",
       "      <td>NaN</td>\n",
       "      <td>NaN</td>\n",
       "      <td>NaN</td>\n",
       "      <td>NaN</td>\n",
       "      <td>...</td>\n",
       "      <td>NaN</td>\n",
       "      <td>NaN</td>\n",
       "      <td>NaN</td>\n",
       "      <td>NaN</td>\n",
       "      <td>NaN</td>\n",
       "      <td>NaN</td>\n",
       "      <td>NaN</td>\n",
       "      <td>NaN</td>\n",
       "      <td>NaN</td>\n",
       "      <td>NaN</td>\n",
       "    </tr>\n",
       "  </tbody>\n",
       "</table>\n",
       "<p>5 rows × 127 columns</p>\n",
       "</div>"
      ],
      "text/plain": [
       "  label  left_x1  left_y1  left_z1  left_x2  left_y2  left_z2  left_x3  \\\n",
       "0   One      NaN      NaN      NaN      NaN      NaN      NaN      NaN   \n",
       "1   One      NaN      NaN      NaN      NaN      NaN      NaN      NaN   \n",
       "2   One      NaN      NaN      NaN      NaN      NaN      NaN      NaN   \n",
       "3   One      NaN      NaN      NaN      NaN      NaN      NaN      NaN   \n",
       "4   One      NaN      NaN      NaN      NaN      NaN      NaN      NaN   \n",
       "\n",
       "   left_y3  left_z3  ...  right_z18  right_x19  right_y19  right_z19  \\\n",
       "0      NaN      NaN  ...        NaN        NaN        NaN        NaN   \n",
       "1      NaN      NaN  ...        NaN        NaN        NaN        NaN   \n",
       "2      NaN      NaN  ...        NaN        NaN        NaN        NaN   \n",
       "3      NaN      NaN  ...        NaN        NaN        NaN        NaN   \n",
       "4      NaN      NaN  ...        NaN        NaN        NaN        NaN   \n",
       "\n",
       "   right_x20  right_y20  right_z20  right_x21  right_y21  right_z21  \n",
       "0        NaN        NaN        NaN        NaN        NaN        NaN  \n",
       "1        NaN        NaN        NaN        NaN        NaN        NaN  \n",
       "2        NaN        NaN        NaN        NaN        NaN        NaN  \n",
       "3        NaN        NaN        NaN        NaN        NaN        NaN  \n",
       "4        NaN        NaN        NaN        NaN        NaN        NaN  \n",
       "\n",
       "[5 rows x 127 columns]"
      ]
     },
     "execution_count": 2,
     "metadata": {},
     "output_type": "execute_result"
    }
   ],
   "source": [
    "df = pd.read_csv('data.csv')\n",
    "df.head()"
   ]
  },
  {
   "cell_type": "code",
   "execution_count": 3,
   "metadata": {},
   "outputs": [
    {
     "name": "stdout",
     "output_type": "stream",
     "text": [
      "18186\n"
     ]
    }
   ],
   "source": [
    "print(len(df))"
   ]
  },
  {
   "cell_type": "code",
   "execution_count": 4,
   "metadata": {},
   "outputs": [],
   "source": [
    "df = df.dropna(thresh=2).fillna(-2)"
   ]
  },
  {
   "cell_type": "code",
   "execution_count": 5,
   "metadata": {},
   "outputs": [
    {
     "name": "stdout",
     "output_type": "stream",
     "text": [
      "<class 'pandas.core.frame.DataFrame'>\n",
      "Int64Index: 17361 entries, 7 to 18185\n",
      "Columns: 127 entries, label to right_z21\n",
      "dtypes: float64(126), object(1)\n",
      "memory usage: 17.0+ MB\n"
     ]
    }
   ],
   "source": [
    "df.info()"
   ]
  },
  {
   "cell_type": "code",
   "execution_count": 6,
   "metadata": {},
   "outputs": [
    {
     "data": {
      "text/html": [
       "<div>\n",
       "<style scoped>\n",
       "    .dataframe tbody tr th:only-of-type {\n",
       "        vertical-align: middle;\n",
       "    }\n",
       "\n",
       "    .dataframe tbody tr th {\n",
       "        vertical-align: top;\n",
       "    }\n",
       "\n",
       "    .dataframe thead th {\n",
       "        text-align: right;\n",
       "    }\n",
       "</style>\n",
       "<table border=\"1\" class=\"dataframe\">\n",
       "  <thead>\n",
       "    <tr style=\"text-align: right;\">\n",
       "      <th></th>\n",
       "      <th>left_x1</th>\n",
       "      <th>left_y1</th>\n",
       "      <th>left_z1</th>\n",
       "      <th>left_x2</th>\n",
       "      <th>left_y2</th>\n",
       "      <th>left_z2</th>\n",
       "      <th>left_x3</th>\n",
       "      <th>left_y3</th>\n",
       "      <th>left_z3</th>\n",
       "      <th>left_x4</th>\n",
       "      <th>...</th>\n",
       "      <th>right_z18</th>\n",
       "      <th>right_x19</th>\n",
       "      <th>right_y19</th>\n",
       "      <th>right_z19</th>\n",
       "      <th>right_x20</th>\n",
       "      <th>right_y20</th>\n",
       "      <th>right_z20</th>\n",
       "      <th>right_x21</th>\n",
       "      <th>right_y21</th>\n",
       "      <th>right_z21</th>\n",
       "    </tr>\n",
       "  </thead>\n",
       "  <tbody>\n",
       "    <tr>\n",
       "      <th>count</th>\n",
       "      <td>17361.000000</td>\n",
       "      <td>17361.000000</td>\n",
       "      <td>1.736100e+04</td>\n",
       "      <td>17361.000000</td>\n",
       "      <td>17361.000000</td>\n",
       "      <td>17361.000000</td>\n",
       "      <td>17361.000000</td>\n",
       "      <td>17361.000000</td>\n",
       "      <td>17361.000000</td>\n",
       "      <td>17361.000000</td>\n",
       "      <td>...</td>\n",
       "      <td>17361.000000</td>\n",
       "      <td>17361.000000</td>\n",
       "      <td>17361.000000</td>\n",
       "      <td>17361.000000</td>\n",
       "      <td>17361.000000</td>\n",
       "      <td>17361.000000</td>\n",
       "      <td>17361.000000</td>\n",
       "      <td>17361.000000</td>\n",
       "      <td>17361.000000</td>\n",
       "      <td>17361.000000</td>\n",
       "    </tr>\n",
       "    <tr>\n",
       "      <th>mean</th>\n",
       "      <td>0.766912</td>\n",
       "      <td>0.676788</td>\n",
       "      <td>1.193939e-07</td>\n",
       "      <td>0.729372</td>\n",
       "      <td>0.648520</td>\n",
       "      <td>-0.012034</td>\n",
       "      <td>0.701646</td>\n",
       "      <td>0.600989</td>\n",
       "      <td>-0.019819</td>\n",
       "      <td>0.694463</td>\n",
       "      <td>...</td>\n",
       "      <td>-1.997858</td>\n",
       "      <td>-1.997404</td>\n",
       "      <td>-1.996898</td>\n",
       "      <td>-1.997864</td>\n",
       "      <td>-1.997416</td>\n",
       "      <td>-1.996895</td>\n",
       "      <td>-1.997860</td>\n",
       "      <td>-1.997427</td>\n",
       "      <td>-1.996890</td>\n",
       "      <td>-1.997858</td>\n",
       "    </tr>\n",
       "    <tr>\n",
       "      <th>std</th>\n",
       "      <td>0.048692</td>\n",
       "      <td>0.108049</td>\n",
       "      <td>2.867271e-07</td>\n",
       "      <td>0.050619</td>\n",
       "      <td>0.110116</td>\n",
       "      <td>0.011906</td>\n",
       "      <td>0.053514</td>\n",
       "      <td>0.110394</td>\n",
       "      <td>0.016514</td>\n",
       "      <td>0.053826</td>\n",
       "      <td>...</td>\n",
       "      <td>0.064729</td>\n",
       "      <td>0.078587</td>\n",
       "      <td>0.093865</td>\n",
       "      <td>0.064558</td>\n",
       "      <td>0.078228</td>\n",
       "      <td>0.093944</td>\n",
       "      <td>0.064675</td>\n",
       "      <td>0.077903</td>\n",
       "      <td>0.094106</td>\n",
       "      <td>0.064742</td>\n",
       "    </tr>\n",
       "    <tr>\n",
       "      <th>min</th>\n",
       "      <td>0.565271</td>\n",
       "      <td>0.270271</td>\n",
       "      <td>-1.101231e-06</td>\n",
       "      <td>0.518579</td>\n",
       "      <td>0.235082</td>\n",
       "      <td>-0.127155</td>\n",
       "      <td>0.482053</td>\n",
       "      <td>0.188528</td>\n",
       "      <td>-0.210590</td>\n",
       "      <td>0.470741</td>\n",
       "      <td>...</td>\n",
       "      <td>-2.000000</td>\n",
       "      <td>-2.000000</td>\n",
       "      <td>-2.000000</td>\n",
       "      <td>-2.000000</td>\n",
       "      <td>-2.000000</td>\n",
       "      <td>-2.000000</td>\n",
       "      <td>-2.000000</td>\n",
       "      <td>-2.000000</td>\n",
       "      <td>-2.000000</td>\n",
       "      <td>-2.000000</td>\n",
       "    </tr>\n",
       "    <tr>\n",
       "      <th>25%</th>\n",
       "      <td>0.733463</td>\n",
       "      <td>0.610692</td>\n",
       "      <td>-3.144754e-08</td>\n",
       "      <td>0.695596</td>\n",
       "      <td>0.580807</td>\n",
       "      <td>-0.018141</td>\n",
       "      <td>0.667594</td>\n",
       "      <td>0.533616</td>\n",
       "      <td>-0.028089</td>\n",
       "      <td>0.664318</td>\n",
       "      <td>...</td>\n",
       "      <td>-2.000000</td>\n",
       "      <td>-2.000000</td>\n",
       "      <td>-2.000000</td>\n",
       "      <td>-2.000000</td>\n",
       "      <td>-2.000000</td>\n",
       "      <td>-2.000000</td>\n",
       "      <td>-2.000000</td>\n",
       "      <td>-2.000000</td>\n",
       "      <td>-2.000000</td>\n",
       "      <td>-2.000000</td>\n",
       "    </tr>\n",
       "    <tr>\n",
       "      <th>50%</th>\n",
       "      <td>0.764111</td>\n",
       "      <td>0.681741</td>\n",
       "      <td>1.506817e-07</td>\n",
       "      <td>0.726155</td>\n",
       "      <td>0.655669</td>\n",
       "      <td>-0.013704</td>\n",
       "      <td>0.698517</td>\n",
       "      <td>0.608330</td>\n",
       "      <td>-0.021659</td>\n",
       "      <td>0.690168</td>\n",
       "      <td>...</td>\n",
       "      <td>-2.000000</td>\n",
       "      <td>-2.000000</td>\n",
       "      <td>-2.000000</td>\n",
       "      <td>-2.000000</td>\n",
       "      <td>-2.000000</td>\n",
       "      <td>-2.000000</td>\n",
       "      <td>-2.000000</td>\n",
       "      <td>-2.000000</td>\n",
       "      <td>-2.000000</td>\n",
       "      <td>-2.000000</td>\n",
       "    </tr>\n",
       "    <tr>\n",
       "      <th>75%</th>\n",
       "      <td>0.794955</td>\n",
       "      <td>0.752260</td>\n",
       "      <td>3.299584e-07</td>\n",
       "      <td>0.757224</td>\n",
       "      <td>0.726518</td>\n",
       "      <td>-0.008407</td>\n",
       "      <td>0.731083</td>\n",
       "      <td>0.680104</td>\n",
       "      <td>-0.013041</td>\n",
       "      <td>0.723684</td>\n",
       "      <td>...</td>\n",
       "      <td>-2.000000</td>\n",
       "      <td>-2.000000</td>\n",
       "      <td>-2.000000</td>\n",
       "      <td>-2.000000</td>\n",
       "      <td>-2.000000</td>\n",
       "      <td>-2.000000</td>\n",
       "      <td>-2.000000</td>\n",
       "      <td>-2.000000</td>\n",
       "      <td>-2.000000</td>\n",
       "      <td>-2.000000</td>\n",
       "    </tr>\n",
       "    <tr>\n",
       "      <th>max</th>\n",
       "      <td>0.944528</td>\n",
       "      <td>1.030685</td>\n",
       "      <td>1.507549e-06</td>\n",
       "      <td>0.952791</td>\n",
       "      <td>1.016640</td>\n",
       "      <td>0.107877</td>\n",
       "      <td>0.949189</td>\n",
       "      <td>0.975636</td>\n",
       "      <td>0.141366</td>\n",
       "      <td>0.927259</td>\n",
       "      <td>...</td>\n",
       "      <td>0.021588</td>\n",
       "      <td>0.662201</td>\n",
       "      <td>1.075345</td>\n",
       "      <td>0.040290</td>\n",
       "      <td>0.655806</td>\n",
       "      <td>1.071280</td>\n",
       "      <td>0.049838</td>\n",
       "      <td>0.644609</td>\n",
       "      <td>1.071071</td>\n",
       "      <td>0.054056</td>\n",
       "    </tr>\n",
       "  </tbody>\n",
       "</table>\n",
       "<p>8 rows × 126 columns</p>\n",
       "</div>"
      ],
      "text/plain": [
       "            left_x1       left_y1       left_z1       left_x2       left_y2  \\\n",
       "count  17361.000000  17361.000000  1.736100e+04  17361.000000  17361.000000   \n",
       "mean       0.766912      0.676788  1.193939e-07      0.729372      0.648520   \n",
       "std        0.048692      0.108049  2.867271e-07      0.050619      0.110116   \n",
       "min        0.565271      0.270271 -1.101231e-06      0.518579      0.235082   \n",
       "25%        0.733463      0.610692 -3.144754e-08      0.695596      0.580807   \n",
       "50%        0.764111      0.681741  1.506817e-07      0.726155      0.655669   \n",
       "75%        0.794955      0.752260  3.299584e-07      0.757224      0.726518   \n",
       "max        0.944528      1.030685  1.507549e-06      0.952791      1.016640   \n",
       "\n",
       "            left_z2       left_x3       left_y3       left_z3       left_x4  \\\n",
       "count  17361.000000  17361.000000  17361.000000  17361.000000  17361.000000   \n",
       "mean      -0.012034      0.701646      0.600989     -0.019819      0.694463   \n",
       "std        0.011906      0.053514      0.110394      0.016514      0.053826   \n",
       "min       -0.127155      0.482053      0.188528     -0.210590      0.470741   \n",
       "25%       -0.018141      0.667594      0.533616     -0.028089      0.664318   \n",
       "50%       -0.013704      0.698517      0.608330     -0.021659      0.690168   \n",
       "75%       -0.008407      0.731083      0.680104     -0.013041      0.723684   \n",
       "max        0.107877      0.949189      0.975636      0.141366      0.927259   \n",
       "\n",
       "       ...     right_z18     right_x19     right_y19     right_z19  \\\n",
       "count  ...  17361.000000  17361.000000  17361.000000  17361.000000   \n",
       "mean   ...     -1.997858     -1.997404     -1.996898     -1.997864   \n",
       "std    ...      0.064729      0.078587      0.093865      0.064558   \n",
       "min    ...     -2.000000     -2.000000     -2.000000     -2.000000   \n",
       "25%    ...     -2.000000     -2.000000     -2.000000     -2.000000   \n",
       "50%    ...     -2.000000     -2.000000     -2.000000     -2.000000   \n",
       "75%    ...     -2.000000     -2.000000     -2.000000     -2.000000   \n",
       "max    ...      0.021588      0.662201      1.075345      0.040290   \n",
       "\n",
       "          right_x20     right_y20     right_z20     right_x21     right_y21  \\\n",
       "count  17361.000000  17361.000000  17361.000000  17361.000000  17361.000000   \n",
       "mean      -1.997416     -1.996895     -1.997860     -1.997427     -1.996890   \n",
       "std        0.078228      0.093944      0.064675      0.077903      0.094106   \n",
       "min       -2.000000     -2.000000     -2.000000     -2.000000     -2.000000   \n",
       "25%       -2.000000     -2.000000     -2.000000     -2.000000     -2.000000   \n",
       "50%       -2.000000     -2.000000     -2.000000     -2.000000     -2.000000   \n",
       "75%       -2.000000     -2.000000     -2.000000     -2.000000     -2.000000   \n",
       "max        0.655806      1.071280      0.049838      0.644609      1.071071   \n",
       "\n",
       "          right_z21  \n",
       "count  17361.000000  \n",
       "mean      -1.997858  \n",
       "std        0.064742  \n",
       "min       -2.000000  \n",
       "25%       -2.000000  \n",
       "50%       -2.000000  \n",
       "75%       -2.000000  \n",
       "max        0.054056  \n",
       "\n",
       "[8 rows x 126 columns]"
      ]
     },
     "execution_count": 6,
     "metadata": {},
     "output_type": "execute_result"
    }
   ],
   "source": [
    "df.describe()"
   ]
  },
  {
   "cell_type": "code",
   "execution_count": 7,
   "metadata": {},
   "outputs": [],
   "source": [
    "features = df.drop(columns = ['label'])\n",
    "label = df['label']"
   ]
  },
  {
   "cell_type": "code",
   "execution_count": 8,
   "metadata": {},
   "outputs": [
    {
     "data": {
      "text/html": [
       "<div>\n",
       "<style scoped>\n",
       "    .dataframe tbody tr th:only-of-type {\n",
       "        vertical-align: middle;\n",
       "    }\n",
       "\n",
       "    .dataframe tbody tr th {\n",
       "        vertical-align: top;\n",
       "    }\n",
       "\n",
       "    .dataframe thead th {\n",
       "        text-align: right;\n",
       "    }\n",
       "</style>\n",
       "<table border=\"1\" class=\"dataframe\">\n",
       "  <thead>\n",
       "    <tr style=\"text-align: right;\">\n",
       "      <th></th>\n",
       "      <th>A</th>\n",
       "      <th>B</th>\n",
       "      <th>C</th>\n",
       "      <th>One</th>\n",
       "      <th>eight</th>\n",
       "      <th>five</th>\n",
       "      <th>four</th>\n",
       "      <th>nine</th>\n",
       "      <th>seven</th>\n",
       "      <th>six</th>\n",
       "      <th>three</th>\n",
       "      <th>two</th>\n",
       "      <th>zero</th>\n",
       "    </tr>\n",
       "  </thead>\n",
       "  <tbody>\n",
       "    <tr>\n",
       "      <th>7</th>\n",
       "      <td>0</td>\n",
       "      <td>0</td>\n",
       "      <td>0</td>\n",
       "      <td>1</td>\n",
       "      <td>0</td>\n",
       "      <td>0</td>\n",
       "      <td>0</td>\n",
       "      <td>0</td>\n",
       "      <td>0</td>\n",
       "      <td>0</td>\n",
       "      <td>0</td>\n",
       "      <td>0</td>\n",
       "      <td>0</td>\n",
       "    </tr>\n",
       "    <tr>\n",
       "      <th>8</th>\n",
       "      <td>0</td>\n",
       "      <td>0</td>\n",
       "      <td>0</td>\n",
       "      <td>1</td>\n",
       "      <td>0</td>\n",
       "      <td>0</td>\n",
       "      <td>0</td>\n",
       "      <td>0</td>\n",
       "      <td>0</td>\n",
       "      <td>0</td>\n",
       "      <td>0</td>\n",
       "      <td>0</td>\n",
       "      <td>0</td>\n",
       "    </tr>\n",
       "    <tr>\n",
       "      <th>9</th>\n",
       "      <td>0</td>\n",
       "      <td>0</td>\n",
       "      <td>0</td>\n",
       "      <td>1</td>\n",
       "      <td>0</td>\n",
       "      <td>0</td>\n",
       "      <td>0</td>\n",
       "      <td>0</td>\n",
       "      <td>0</td>\n",
       "      <td>0</td>\n",
       "      <td>0</td>\n",
       "      <td>0</td>\n",
       "      <td>0</td>\n",
       "    </tr>\n",
       "    <tr>\n",
       "      <th>10</th>\n",
       "      <td>0</td>\n",
       "      <td>0</td>\n",
       "      <td>0</td>\n",
       "      <td>1</td>\n",
       "      <td>0</td>\n",
       "      <td>0</td>\n",
       "      <td>0</td>\n",
       "      <td>0</td>\n",
       "      <td>0</td>\n",
       "      <td>0</td>\n",
       "      <td>0</td>\n",
       "      <td>0</td>\n",
       "      <td>0</td>\n",
       "    </tr>\n",
       "    <tr>\n",
       "      <th>11</th>\n",
       "      <td>0</td>\n",
       "      <td>0</td>\n",
       "      <td>0</td>\n",
       "      <td>1</td>\n",
       "      <td>0</td>\n",
       "      <td>0</td>\n",
       "      <td>0</td>\n",
       "      <td>0</td>\n",
       "      <td>0</td>\n",
       "      <td>0</td>\n",
       "      <td>0</td>\n",
       "      <td>0</td>\n",
       "      <td>0</td>\n",
       "    </tr>\n",
       "    <tr>\n",
       "      <th>...</th>\n",
       "      <td>...</td>\n",
       "      <td>...</td>\n",
       "      <td>...</td>\n",
       "      <td>...</td>\n",
       "      <td>...</td>\n",
       "      <td>...</td>\n",
       "      <td>...</td>\n",
       "      <td>...</td>\n",
       "      <td>...</td>\n",
       "      <td>...</td>\n",
       "      <td>...</td>\n",
       "      <td>...</td>\n",
       "      <td>...</td>\n",
       "    </tr>\n",
       "    <tr>\n",
       "      <th>18181</th>\n",
       "      <td>0</td>\n",
       "      <td>1</td>\n",
       "      <td>0</td>\n",
       "      <td>0</td>\n",
       "      <td>0</td>\n",
       "      <td>0</td>\n",
       "      <td>0</td>\n",
       "      <td>0</td>\n",
       "      <td>0</td>\n",
       "      <td>0</td>\n",
       "      <td>0</td>\n",
       "      <td>0</td>\n",
       "      <td>0</td>\n",
       "    </tr>\n",
       "    <tr>\n",
       "      <th>18182</th>\n",
       "      <td>0</td>\n",
       "      <td>1</td>\n",
       "      <td>0</td>\n",
       "      <td>0</td>\n",
       "      <td>0</td>\n",
       "      <td>0</td>\n",
       "      <td>0</td>\n",
       "      <td>0</td>\n",
       "      <td>0</td>\n",
       "      <td>0</td>\n",
       "      <td>0</td>\n",
       "      <td>0</td>\n",
       "      <td>0</td>\n",
       "    </tr>\n",
       "    <tr>\n",
       "      <th>18183</th>\n",
       "      <td>0</td>\n",
       "      <td>1</td>\n",
       "      <td>0</td>\n",
       "      <td>0</td>\n",
       "      <td>0</td>\n",
       "      <td>0</td>\n",
       "      <td>0</td>\n",
       "      <td>0</td>\n",
       "      <td>0</td>\n",
       "      <td>0</td>\n",
       "      <td>0</td>\n",
       "      <td>0</td>\n",
       "      <td>0</td>\n",
       "    </tr>\n",
       "    <tr>\n",
       "      <th>18184</th>\n",
       "      <td>0</td>\n",
       "      <td>1</td>\n",
       "      <td>0</td>\n",
       "      <td>0</td>\n",
       "      <td>0</td>\n",
       "      <td>0</td>\n",
       "      <td>0</td>\n",
       "      <td>0</td>\n",
       "      <td>0</td>\n",
       "      <td>0</td>\n",
       "      <td>0</td>\n",
       "      <td>0</td>\n",
       "      <td>0</td>\n",
       "    </tr>\n",
       "    <tr>\n",
       "      <th>18185</th>\n",
       "      <td>0</td>\n",
       "      <td>1</td>\n",
       "      <td>0</td>\n",
       "      <td>0</td>\n",
       "      <td>0</td>\n",
       "      <td>0</td>\n",
       "      <td>0</td>\n",
       "      <td>0</td>\n",
       "      <td>0</td>\n",
       "      <td>0</td>\n",
       "      <td>0</td>\n",
       "      <td>0</td>\n",
       "      <td>0</td>\n",
       "    </tr>\n",
       "  </tbody>\n",
       "</table>\n",
       "<p>17361 rows × 13 columns</p>\n",
       "</div>"
      ],
      "text/plain": [
       "       A  B  C  One  eight  five  four  nine  seven  six  three  two  zero\n",
       "7      0  0  0    1      0     0     0     0      0    0      0    0     0\n",
       "8      0  0  0    1      0     0     0     0      0    0      0    0     0\n",
       "9      0  0  0    1      0     0     0     0      0    0      0    0     0\n",
       "10     0  0  0    1      0     0     0     0      0    0      0    0     0\n",
       "11     0  0  0    1      0     0     0     0      0    0      0    0     0\n",
       "...   .. .. ..  ...    ...   ...   ...   ...    ...  ...    ...  ...   ...\n",
       "18181  0  1  0    0      0     0     0     0      0    0      0    0     0\n",
       "18182  0  1  0    0      0     0     0     0      0    0      0    0     0\n",
       "18183  0  1  0    0      0     0     0     0      0    0      0    0     0\n",
       "18184  0  1  0    0      0     0     0     0      0    0      0    0     0\n",
       "18185  0  1  0    0      0     0     0     0      0    0      0    0     0\n",
       "\n",
       "[17361 rows x 13 columns]"
      ]
     },
     "execution_count": 8,
     "metadata": {},
     "output_type": "execute_result"
    }
   ],
   "source": [
    "label_encoded = pd.get_dummies(label)\n",
    "label_encoded"
   ]
  },
  {
   "cell_type": "code",
   "execution_count": 9,
   "metadata": {},
   "outputs": [
    {
     "data": {
      "text/plain": [
       "(17361, 126)"
      ]
     },
     "execution_count": 9,
     "metadata": {},
     "output_type": "execute_result"
    }
   ],
   "source": [
    "features.values.shape"
   ]
  },
  {
   "cell_type": "code",
   "execution_count": 10,
   "metadata": {},
   "outputs": [],
   "source": [
    "X_dev, X_test, y_dev, y_test = train_test_split(features.values, label, stratify=label, test_size=.1)"
   ]
  },
  {
   "cell_type": "code",
   "execution_count": 11,
   "metadata": {},
   "outputs": [
    {
     "name": "stdout",
     "output_type": "stream",
     "text": [
      "15624 15624\n",
      "1737 1737\n"
     ]
    }
   ],
   "source": [
    "print(len(X_dev), len(y_dev))\n",
    "print(len(X_test), len(y_test))"
   ]
  },
  {
   "cell_type": "code",
   "execution_count": 12,
   "metadata": {},
   "outputs": [],
   "source": [
    "X_train, X_hyp, y_train, y_hyp = train_test_split(X_dev, y_dev, stratify=y_dev, test_size=.1)"
   ]
  },
  {
   "cell_type": "code",
   "execution_count": 13,
   "metadata": {},
   "outputs": [
    {
     "name": "stdout",
     "output_type": "stream",
     "text": [
      "Train set:  14061 14061\n",
      "Development set:  1563 1563\n",
      "Test set:  1737 1737\n"
     ]
    }
   ],
   "source": [
    "print('Train set: ', len(X_train), len(y_train))\n",
    "print('Development set: ', len(X_hyp), len(y_hyp))\n",
    "print('Test set: ', len(X_test), len(y_test))"
   ]
  },
  {
   "cell_type": "code",
   "execution_count": 14,
   "metadata": {},
   "outputs": [],
   "source": [
    "knn = KNeighborsClassifier(n_neighbors=4, weights='distance', n_jobs = -1)"
   ]
  },
  {
   "cell_type": "code",
   "execution_count": 15,
   "metadata": {},
   "outputs": [
    {
     "data": {
      "text/plain": [
       "KNeighborsClassifier(n_jobs=-1, n_neighbors=4, weights='distance')"
      ]
     },
     "execution_count": 15,
     "metadata": {},
     "output_type": "execute_result"
    }
   ],
   "source": [
    "knn.fit(X_train, y_train)"
   ]
  },
  {
   "cell_type": "code",
   "execution_count": 16,
   "metadata": {},
   "outputs": [
    {
     "name": "stdout",
     "output_type": "stream",
     "text": [
      "[[ 91   0   0   0   0   0   0   0   0   0   0   0   0]\n",
      " [  0 121   0   0   0   4   1   0   0   0   0   0   0]\n",
      " [  0   0 132   0   0   0   0   0   0   0   0   0   0]\n",
      " [  0   0   0 149   0   0   0   0   0   0   0   0   0]\n",
      " [  0   0   0   0 154   0   0   0   0   0   0   0   0]\n",
      " [  0   1   0   0   0 123   0   0   0   0   0   0   0]\n",
      " [  0   1   0   0   0   2 118   0   0   0   0   0   0]\n",
      " [  0   0   0   0   0   0   0 154   0   0   0   0   0]\n",
      " [  0   0   0   0   0   0   0   0  93   0   0   0   0]\n",
      " [  0   1   0   0   0   0   2   0   0 102   0   0   0]\n",
      " [  0   0   0   0   0   0   0   0   0   0  90   0   0]\n",
      " [  0   0   0   0   0   0   0   0   0   0   1 123   0]\n",
      " [  0   1   0   0   0   0   0   0   0   0   0   0  99]]\n"
     ]
    }
   ],
   "source": [
    "from sklearn.metrics import confusion_matrix\n",
    "y_true = y_hyp\n",
    "y_pred = knn.predict(X_hyp)\n",
    "y_proba = knn.predict_proba(X_hyp)\n",
    "# print(y_proba)\n",
    "print(confusion_matrix(y_true, y_pred))"
   ]
  },
  {
   "cell_type": "code",
   "execution_count": 17,
   "metadata": {},
   "outputs": [
    {
     "data": {
      "text/plain": [
       "<AxesSubplot:>"
      ]
     },
     "execution_count": 17,
     "metadata": {},
     "output_type": "execute_result"
    },
    {
     "data": {
      "image/png": "[encoded data removed]",
      "text/plain": [
       "<Figure size 432x288 with 2 Axes>"
      ]
     },
     "metadata": {
      "needs_background": "light"
     },
     "output_type": "display_data"
    }
   ],
   "source": [
    "import seaborn as sns\n",
    "sns.heatmap(confusion_matrix(y_true, y_pred), cmap='Greens')"
   ]
  },
  {
   "cell_type": "code",
   "execution_count": 18,
   "metadata": {},
   "outputs": [
    {
     "name": "stdout",
     "output_type": "stream",
     "text": [
      "[[102   0   0   0   0   0   0   0   0   0   0   0   0]\n",
      " [  0 132   0   0   0   3   4   0   1   0   0   0   0]\n",
      " [  0   0 147   0   0   0   0   0   0   0   0   0   0]\n",
      " [  0   0   0 166   0   0   0   0   0   0   0   0   0]\n",
      " [  0   1   0   0 169   0   0   0   0   0   0   0   0]\n",
      " [  0   4   0   0   0 134   0   0   0   0   0   0   0]\n",
      " [  0   3   0   0   0   1 130   0   0   0   0   0   0]\n",
      " [  0   1   0   0   0   0   0 171   0   0   0   0   0]\n",
      " [  0   0   0   0   0   0   0   0 103   0   0   0   0]\n",
      " [  0   0   0   0   0   0   2   0   0 115   0   0   0]\n",
      " [  0   0   0   1   0   0   0   0   0   0  99   0   0]\n",
      " [  0   0   0   0   0   0   0   0   0   0   0 137   0]\n",
      " [  0   0   0   0   0   0   0   0   0   0   0   0 111]]\n"
     ]
    },
    {
     "data": {
      "text/plain": [
       "<AxesSubplot:>"
      ]
     },
     "execution_count": 18,
     "metadata": {},
     "output_type": "execute_result"
    },
    {
     "data": {
      "image/png": "[encoded data removed]",
      "text/plain": [
       "<Figure size 432x288 with 2 Axes>"
      ]
     },
     "metadata": {
      "needs_background": "light"
     },
     "output_type": "display_data"
    }
   ],
   "source": [
    "from sklearn.metrics import confusion_matrix\n",
    "y_true = y_test\n",
    "y_pred = knn.predict(X_test)\n",
    "y_proba = knn.predict_proba(X_hyp)\n",
    "# print(y_proba)\n",
    "print(confusion_matrix(y_true, y_pred))\n",
    "sns.heatmap(confusion_matrix(y_true, y_pred), cmap='Greens')"
   ]
  },
  {
   "cell_type": "code",
   "execution_count": 19,
   "metadata": {},
   "outputs": [
    {
     "data": {
      "text/plain": [
       "'five'"
      ]
     },
     "execution_count": 19,
     "metadata": {},
     "output_type": "execute_result"
    }
   ],
   "source": [
    "knn.predict([X_test[0]])[0]"
   ]
  },
  {
   "cell_type": "code",
   "execution_count": 20,
   "metadata": {},
   "outputs": [],
   "source": [
    "def testModel(model):\n",
    "    import cv2\n",
    "    import mediapipe as mp\n",
    "\n",
    "    mp_holistic = mp.solutions.holistic\n",
    "    mp_drawings = mp.solutions.drawing_utils\n",
    "    mp_drawings_styles = mp.solutions.drawing_styles\n",
    "\n",
    "    cap = cv2.VideoCapture(0)\n",
    "\n",
    "    with mp_holistic.Holistic(\n",
    "        min_detection_confidence = 0.5,\n",
    "        min_tracking_confidence = 0.5) as holistic:\n",
    "\n",
    "        left, right = None, None\n",
    "        while cap.isOpened():\n",
    "            success, image = cap.read()\n",
    "            if not success:\n",
    "                print(\"Ignoring empty frame\")\n",
    "                continue\n",
    "\n",
    "            image = cv2.cvtColor(image, cv2.COLOR_BGR2RGB)\n",
    "            image.flags.writeable = False\n",
    "\n",
    "            results = holistic.process(image)\n",
    "\n",
    "            right = results.right_hand_landmarks\n",
    "            left = results.left_hand_landmarks\n",
    "            right_hand_marks = [-2]*63\n",
    "            left_hand_marks = [-2]*63\n",
    "\n",
    "            if right is not None:\n",
    "                ind = 0\n",
    "                for l in right.landmark:\n",
    "                    right_hand_marks[ind], right_hand_marks[ind + 1], right_hand_marks[ind + 2] = l.x, l.y, l.z\n",
    "                    ind += 3\n",
    "            if left is not None:\n",
    "                ind = 0\n",
    "                for l in left.landmark:\n",
    "                    left_hand_marks[ind], left_hand_marks[ind + 1], left_hand_marks[ind + 2] = l.x, l.y, l.z\n",
    "                    ind += 3\n",
    "            \n",
    "            x = left_hand_marks + right_hand_marks\n",
    "            isEmpty = all(i == -2 for i in x)\n",
    "            if isEmpty:\n",
    "                y = 'No Sign Detected'\n",
    "            else:\n",
    "                y = model.predict([x])[0]\n",
    "            \n",
    "            image = cv2.cvtColor(image, cv2.COLOR_BGR2RGB)\n",
    "            image.flags.writeable = True\n",
    "\n",
    "            mp_drawings.draw_landmarks( image, \n",
    "                                            results.right_hand_landmarks,\n",
    "                                            mp_holistic.HAND_CONNECTIONS,\n",
    "                                            mp_drawings.DrawingSpec(color=(80,22,10), thickness=2, circle_radius=4),\n",
    "                                            mp_drawings.DrawingSpec(color=(80,44,121), thickness=2, circle_radius=2)\n",
    "                                    )\n",
    "            mp_drawings.draw_landmarks( image, \n",
    "                                            results.left_hand_landmarks,\n",
    "                                            mp_holistic.HAND_CONNECTIONS,\n",
    "                                            mp_drawings.DrawingSpec(color=(121,22,76), thickness=2, circle_radius=4),\n",
    "                                            mp_drawings.DrawingSpec(color=(121,44,250), thickness=2, circle_radius=2)\n",
    "                                    )\n",
    "            image = cv2.flip(image, 1)\n",
    "            cv2.putText(image, y, (100, 100), cv2.FONT_HERSHEY_SIMPLEX, 1.0, (0, 255, 255), 2, cv2.LINE_4)\n",
    "            cv2.imshow('Detection', image)\n",
    "            if cv2.waitKey(5) & 0xFF == 27:\n",
    "                break\n",
    "    \n",
    "    cap.release()\n",
    "    cv2.destroyAllWindows()"
   ]
  },
  {
   "cell_type": "code",
   "execution_count": 21,
   "metadata": {},
   "outputs": [],
   "source": [
    "testModel(knn)"
   ]
  },
  {
   "cell_type": "code",
   "execution_count": 54,
   "metadata": {},
   "outputs": [],
   "source": [
    "from sklearn.preprocessing import OneHotEncoder\n",
    "onehotencoder = OneHotEncoder()"
   ]
  },
  {
   "cell_type": "code",
   "execution_count": 55,
   "metadata": {},
   "outputs": [
    {
     "ename": "AttributeError",
     "evalue": "'list' object has no attribute 'values'",
     "output_type": "error",
     "traceback": [
      "\u001b[1;31m---------------------------------------------------------------------------\u001b[0m",
      "\u001b[1;31mAttributeError\u001b[0m                            Traceback (most recent call last)",
      "\u001b[1;32md:\\SIH\\MLModel.ipynb Cell 23'\u001b[0m in \u001b[0;36m<cell line: 1>\u001b[1;34m()\u001b[0m\n\u001b[1;32m----> <a href='vscode-notebook-cell:/d%3A/SIH/MLModel.ipynb#ch0000022?line=0'>1</a>\u001b[0m y_train \u001b[39m=\u001b[39m [[i] \u001b[39mfor\u001b[39;00m i \u001b[39min\u001b[39;00m y_train\u001b[39m.\u001b[39;49mvalues]\n",
      "\u001b[1;31mAttributeError\u001b[0m: 'list' object has no attribute 'values'"
     ]
    }
   ],
   "source": [
    "y_train = [[i] for i in y_train.values]"
   ]
  },
  {
   "cell_type": "code",
   "execution_count": 56,
   "metadata": {},
   "outputs": [
    {
     "data": {
      "text/plain": [
       "array([[0., 0., 0., ..., 0., 0., 0.],\n",
       "       [0., 0., 0., ..., 0., 0., 0.],\n",
       "       [0., 0., 0., ..., 0., 1., 0.],\n",
       "       ...,\n",
       "       [1., 0., 0., ..., 0., 0., 0.],\n",
       "       [0., 0., 0., ..., 0., 0., 0.],\n",
       "       [0., 0., 1., ..., 0., 0., 0.]])"
      ]
     },
     "execution_count": 56,
     "metadata": {},
     "output_type": "execute_result"
    }
   ],
   "source": [
    "y_train_encoded = onehotencoder.fit_transform(y_train)\n",
    "y_train_encoded.toarray()"
   ]
  },
  {
   "cell_type": "code",
   "execution_count": 58,
   "metadata": {},
   "outputs": [
    {
     "data": {
      "text/plain": [
       "DecisionTreeClassifier()"
      ]
     },
     "execution_count": 58,
     "metadata": {},
     "output_type": "execute_result"
    }
   ],
   "source": [
    "dec_tree = DecisionTreeClassifier()\n",
    "dec_tree.fit(X_train, y_train_encoded.toarray())"
   ]
  },
  {
   "cell_type": "code",
   "execution_count": 61,
   "metadata": {},
   "outputs": [
    {
     "name": "stdout",
     "output_type": "stream",
     "text": [
      "[[0. 0. 1. ... 0. 0. 0.]\n",
      " [0. 0. 0. ... 0. 0. 0.]\n",
      " [0. 1. 0. ... 0. 0. 0.]\n",
      " ...\n",
      " [0. 0. 0. ... 0. 0. 0.]\n",
      " [1. 0. 0. ... 0. 0. 0.]\n",
      " [0. 0. 0. ... 0. 0. 0.]]\n"
     ]
    }
   ],
   "source": [
    "from sklearn.metrics import confusion_matrix\n",
    "from sklearn.metrics import precision_score\n",
    "y_true = y_hyp\n",
    "y_pred = dec_tree.predict(X_hyp)\n",
    "y_proba = dec_tree.predict_proba(X_hyp)\n",
    "print(y_pred)"
   ]
  },
  {
   "cell_type": "code",
   "execution_count": null,
   "metadata": {},
   "outputs": [],
   "source": []
  }
 ],
 "metadata": {
  "interpreter": {
   "hash": "76271103cfec6f5009fcab8c826f2ea126933e6ea9ac1943a992331720e70c3d"
  },
  "kernelspec": {
   "display_name": "Python 3.9.6 ('asl': venv)",
   "language": "python",
   "name": "python3"
  },
  "language_info": {
   "codemirror_mode": {
    "name": "ipython",
    "version": 3
   },
   "file_extension": ".py",
   "mimetype": "text/x-python",
   "name": "python",
   "nbconvert_exporter": "python",
   "pygments_lexer": "ipython3",
   "version": "3.9.6"
  },
  "orig_nbformat": 4
 },
 "nbformat": 4,
 "nbformat_minor": 2
}
