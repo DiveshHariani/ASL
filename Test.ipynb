{
 "cells": [
  {
   "cell_type": "code",
   "execution_count": 1,
   "metadata": {},
   "outputs": [
    {
     "data": {
      "text/plain": [
       "KNeighborsClassifier(n_jobs=-1, n_neighbors=4, weights='distance')"
      ]
     },
     "execution_count": 1,
     "metadata": {},
     "output_type": "execute_result"
    }
   ],
   "source": [
    "import pickle\n",
    "with open('body_language.pkl', 'rb') as f:\n",
    "    model = pickle.load(f)\n",
    "model"
   ]
  },
  {
   "cell_type": "code",
   "execution_count": 7,
   "metadata": {},
   "outputs": [],
   "source": [
    "sentence = []\n",
    "def testModel(model):\n",
    "    import cv2\n",
    "    import mediapipe as mp\n",
    "    from translate import Translator\n",
    "    translator= Translator(to_lang=\"Hindi\")\n",
    "\n",
    "    mp_holistic = mp.solutions.holistic\n",
    "    mp_drawings = mp.solutions.drawing_utils\n",
    "    mp_drawings_styles = mp.solutions.drawing_styles\n",
    "\n",
    "    cap = cv2.VideoCapture(0)\n",
    "\n",
    "    with mp_holistic.Holistic(\n",
    "        min_detection_confidence = 0.5,\n",
    "        min_tracking_confidence = 0.5) as holistic:\n",
    "\n",
    "        left, right = None, None\n",
    "        while cap.isOpened():\n",
    "            success, image = cap.read()\n",
    "            if not success:\n",
    "                print(\"Ignoring empty frame\")\n",
    "                continue\n",
    "\n",
    "            image = cv2.cvtColor(image, cv2.COLOR_BGR2RGB)\n",
    "            image.flags.writeable = False\n",
    "\n",
    "            results = holistic.process(image)\n",
    "\n",
    "            right = results.right_hand_landmarks\n",
    "            left = results.left_hand_landmarks\n",
    "            right_hand_marks = [-2]*63\n",
    "            left_hand_marks = [-2]*63\n",
    "\n",
    "            if right is not None:\n",
    "                ind = 0\n",
    "                for l in right.landmark:\n",
    "                    right_hand_marks[ind], right_hand_marks[ind + 1], right_hand_marks[ind + 2] = l.x, l.y, l.z\n",
    "                    ind += 3\n",
    "            if left is not None:\n",
    "                ind = 0\n",
    "                for l in left.landmark:\n",
    "                    left_hand_marks[ind], left_hand_marks[ind + 1], left_hand_marks[ind + 2] = l.x, l.y, l.z\n",
    "                    ind += 3\n",
    "            \n",
    "            x = left_hand_marks + right_hand_marks\n",
    "            isEmpty = all(i == -2 for i in x)\n",
    "            if isEmpty:\n",
    "                y = 'No Sign Detected'\n",
    "            else:\n",
    "                y = model.predict([x])[0]\n",
    "                translation = translator.translate(y)\n",
    "                print(translation)\n",
    "                if len(sentence) == 0 or sentence[-1] != y:\n",
    "                    sentence.append(y)\n",
    "            \n",
    "            image = cv2.cvtColor(image, cv2.COLOR_BGR2RGB)\n",
    "            image.flags.writeable = True\n",
    "\n",
    "            mp_drawings.draw_landmarks( image, \n",
    "                                            results.right_hand_landmarks,\n",
    "                                            mp_holistic.HAND_CONNECTIONS,\n",
    "                                            mp_drawings.DrawingSpec(color=(80,22,10), thickness=2, circle_radius=4),\n",
    "                                            mp_drawings.DrawingSpec(color=(80,44,121), thickness=2, circle_radius=2)\n",
    "                                    )\n",
    "            mp_drawings.draw_landmarks( image, \n",
    "                                            results.left_hand_landmarks,\n",
    "                                            mp_holistic.HAND_CONNECTIONS,\n",
    "                                            mp_drawings.DrawingSpec(color=(121,22,76), thickness=2, circle_radius=4),\n",
    "                                            mp_drawings.DrawingSpec(color=(121,44,250), thickness=2, circle_radius=2)\n",
    "                                    )\n",
    "            image = cv2.flip(image, 1)\n",
    "            cv2.putText(image, y, (100, 100), cv2.FONT_HERSHEY_SIMPLEX, 1.0, (0, 255, 255), 2, cv2.LINE_4)\n",
    "            cv2.imshow('Detection', image)\n",
    "            if cv2.waitKey(5) & 0xFF == 27:\n",
    "                break\n",
    "    \n",
    "    cap.release()\n",
    "    cv2.destroyAllWindows()"
   ]
  },
  {
   "cell_type": "code",
   "execution_count": 13,
   "metadata": {},
   "outputs": [
    {
     "name": "stdout",
     "output_type": "stream",
     "text": [
      "बढ़िया\n",
      "बढ़िया\n",
      "बढ़िया\n",
      "बढ़िया\n",
      "बढ़िया\n",
      "बढ़िया\n",
      "बढ़िया\n",
      "दोपहर\n",
      "दोपहर\n",
      "दोपहर\n",
      "दोपहर\n",
      "दोपहर\n",
      "दोपहर\n",
      "दोपहर\n",
      "दोपहर\n",
      "दोपहर\n",
      "नमस्ते\n",
      "नमस्ते\n",
      "नमस्ते\n",
      "नमस्ते\n",
      "नमस्ते\n",
      "नमस्ते\n",
      "नमस्ते\n",
      "नमस्ते\n",
      "नमस्ते\n",
      "हम हंसते हैं\n",
      "हम हंसते हैं\n",
      "M\n",
      "अनुबंध अंग्रेजी में\n",
      "अनुबंध अंग्रेजी में\n",
      "अनुबंध अंग्रेजी में\n",
      "अनुबंध अंग्रेजी में\n",
      "अनुबंध अंग्रेजी में\n",
      "नाम\n",
      "नाम\n",
      "नाम\n",
      "नाम\n",
      "नाम\n",
      "नाम\n",
      "I\n",
      "M\n",
      "M\n",
      "M\n",
      "M\n",
      "M\n",
      "M\n",
      "M\n",
      "M\n",
      "M\n",
      "M\n",
      "M\n",
      "M\n",
      "M\n",
      "M\n",
      "लक्ष्य रंग स्पेस: (T)\n",
      "M\n",
      "M\n",
      "M\n",
      "M\n",
      "M\n",
      "M\n",
      "A\n",
      "A\n",
      "M\n",
      "P\n",
      "इस\n",
      "नाम\n",
      "आपका दिन मंगलमय हो\n",
      "आपका दिन मंगलमय हो\n",
      "आपका दिन मंगलमय हो\n",
      "आपका दिन मंगलमय हो\n",
      "आपका दिन मंगलमय हो\n",
      "आपका दिन मंगलमय हो\n",
      "आपका दिन मंगलमय हो\n",
      "आपका दिन मंगलमय हो\n",
      "आपका दिन मंगलमय हो\n",
      "आपका दिन मंगलमय हो\n",
      "आपका दिन मंगलमय हो\n",
      "आपका दिन मंगलमय हो\n",
      "आप\n"
     ]
    }
   ],
   "source": [
    "testModel(model)"
   ]
  },
  {
   "cell_type": "code",
   "execution_count": 9,
   "metadata": {},
   "outputs": [
    {
     "name": "stdout",
     "output_type": "stream",
     "text": [
      "42\n",
      "42\n",
      "42\n"
     ]
    }
   ],
   "source": [
    "request = {}\n",
    "request['x1'] = [0.5677365064620972,0.5674930810928345,0.5701802372932434,0.5424880385398865,0.4312554001808166,0.4051911830902099,0.3875360786914825,0.6288992166519165,0.632409393787384,0.3710357844829559,0.3605702519416809,0.3617339134216308,0.3691082298755646,0.5677365064620972,0.5674930810928345,0.5701802372932434,0.5424880385398865,0.4312554001808166,0.4051911830902099,0.3875360786914825,0.6288992166519165,0.632409393787384,0.3710357844829559,0.3605702519416809,0.3617339134216308,0.3691082298755646,0.3664561808109283,0.3666895627975464,0.3677434623241424,0.3657937943935394,0.3621916174888611,0.3588271141052246,0.3615173101425171,0.3651569485664367,0.3664561808109283,0.3666895627975464,0.3677434623241424,0.3657937943935394,0.3621916174888611,0.3588271141052246,0.3615173101425171,0.3651569485664367]\n",
    "request['y1'] = [0.8456211090087891,0.84837806224823,0.8660334944725037,0.8566816449165344,0.8429568409919739,0.8737201690673828,0.8820012211799622,0.8030687570571899,0.7942548394203186,0.8782593011856079,0.890728235244751,0.887215793132782,0.8891662359237671,0.8456211090087891,0.84837806224823,0.8660334944725037,0.8566816449165344,0.8429568409919739,0.8737201690673828,0.8820012211799622,0.8030687570571899,0.7942548394203186,0.8782593011856079,0.890728235244751,0.887215793132782,0.8891662359237671,0.889994740486145,0.8971157073974609,0.8966625928878784,0.894110918045044,0.8934246301651001,0.8878676891326904,0.8909453749656677,0.8936004042625427,0.889994740486145,0.8971157073974609,0.8966625928878784,0.894110918045044,0.8934246301651001,0.8878676891326904,0.8909453749656677,0.8936004042625427]\n",
    "request['z1'] = [-3.60176018148195e-05,-0.0001109375225496,-0.0001611770858289,-9.303064143750817e-05,-8.89462826307863e-05,-0.000136040704092,-9.06435088836588e-05,-9.47228036238812e-05,-5.442448309622705e-05,-0.000142768913065,-0.000127622144646,-0.0001152863114839,-0.0001355925196548,-3.60176018148195e-05,-0.0001109375225496,-0.0001611770858289,-9.303064143750817e-05,-8.89462826307863e-05,-0.000136040704092,-9.06435088836588e-05,-9.47228036238812e-05,-5.442448309622705e-05,-0.000142768913065,-0.000127622144646,-0.0001152863114839,-0.0001355925196548,-0.0001244744780706,-0.0001351877581328,-0.0001326959900325,-0.0001228957262355,-0.000124412268633,-0.000125189544633,-0.0001367883523926,-0.0001408639363944,-0.0001244744780706,-0.0001351877581328,-0.0001326959900325,-0.0001228957262355,-0.000124412268633,-0.000125189544633,-0.0001367883523926,-0.0001408639363944]\n",
    "print(len(request['x1']))\n",
    "print(len(request['y1']))\n",
    "print(len(request['z1']))"
   ]
  },
  {
   "cell_type": "code",
   "execution_count": 9,
   "metadata": {},
   "outputs": [
    {
     "name": "stdout",
     "output_type": "stream",
     "text": [
      "126\n"
     ]
    }
   ],
   "source": [
    "row = []\n",
    "for i in range(42):\n",
    "    row.append(request['x1'][i])\n",
    "    row.append(request['y1'][i])\n",
    "    row.append(request['z1'][i])\n",
    "# print(row)\n",
    "print(len(row))"
   ]
  },
  {
   "cell_type": "code",
   "execution_count": 11,
   "metadata": {},
   "outputs": [
    {
     "data": {
      "text/plain": [
       "'how'"
      ]
     },
     "execution_count": 11,
     "metadata": {},
     "output_type": "execute_result"
    }
   ],
   "source": [
    "model.predict([row])[0]"
   ]
  },
  {
   "cell_type": "code",
   "execution_count": 12,
   "metadata": {},
   "outputs": [],
   "source": [
    "request = {}\n",
    "request['x1'] = [0.5677365064620972,0.5674930810928345,0.5701802372932434,0.5424880385398865,0.4312554001808166,0.4051911830902099,0.3875360786914825,0.6288992166519165,0.632409393787384,0.3710357844829559,0.3605702519416809,0.3617339134216308,0.3691082298755646,0.5677365064620972,0.5674930810928345,0.5701802372932434,0.5424880385398865,0.4312554001808166,0.4051911830902099,0.3875360786914825,0.6288992166519165,0.632409393787384,0.3710357844829559,0.3605702519416809,0.3617339134216308,0.3691082298755646,0.3664561808109283,0.3666895627975464,0.3677434623241424,0.3657937943935394,0.3621916174888611,0.3588271141052246,0.3615173101425171,0.3651569485664367,0.3664561808109283,0.3666895627975464,0.3677434623241424,0.3657937943935394,0.3621916174888611,0.3588271141052246,0.3615173101425171,0.3651569485664367]\n",
    "request['y1'] = [0.8456211090087891,0.84837806224823,0.8660334944725037,0.8566816449165344,0.8429568409919739,0.8737201690673828,0.8820012211799622,0.8030687570571899,0.7942548394203186,0.8782593011856079,0.890728235244751,0.887215793132782,0.8891662359237671,0.8456211090087891,0.84837806224823,0.8660334944725037,0.8566816449165344,0.8429568409919739,0.8737201690673828,0.8820012211799622,0.8030687570571899,0.7942548394203186,0.8782593011856079,0.890728235244751,0.887215793132782,0.8891662359237671,0.889994740486145,0.8971157073974609,0.8966625928878784,0.894110918045044,0.8934246301651001,0.8878676891326904,0.8909453749656677,0.8936004042625427,0.889994740486145,0.8971157073974609,0.8966625928878784,0.894110918045044,0.8934246301651001,0.8878676891326904,0.8909453749656677,0.8936004042625427]\n",
    "request['z1'] = [-3.60176018148195e-05,-0.0001109375225496,-0.0001611770858289,-9.303064143750817e-05,-8.89462826307863e-05,-0.000136040704092,-9.06435088836588e-05,-9.47228036238812e-05,-5.442448309622705e-05,-0.000142768913065,-0.000127622144646,-0.0001152863114839,-0.0001355925196548,-3.60176018148195e-05,-0.0001109375225496,-0.0001611770858289,-9.303064143750817e-05,-8.89462826307863e-05,-0.000136040704092,-9.06435088836588e-05,-9.47228036238812e-05,-5.442448309622705e-05,-0.000142768913065,-0.000127622144646,-0.0001152863114839,-0.0001355925196548,-0.0001244744780706,-0.0001351877581328,-0.0001326959900325,-0.0001228957262355,-0.000124412268633,-0.000125189544633,-0.0001367883523926,-0.0001408639363944,-0.0001244744780706,-0.0001351877581328,-0.0001326959900325,-0.0001228957262355,-0.000124412268633,-0.000125189544633,-0.0001367883523926,-0.0001408639363944]\n",
    "request['v'] = [0.0,0.0,0.0,0.0,0.0,0.0,0.0,0.0,0.0,0.0,0.0,0.0,0.0,0.0,0.0,0.0,0.0,0.0,0.0,0.0,0.0,0.0,0.0,0.0,0.0,0.0,0.0,0.0,0.0,0.0,0.0,0.0,0.0,0.0,0.0,0.0,0.0,0.0,0.0,0.0,0.0,0.0]\n",
    "\n",
    "# mediapipe opencv-python pandas scikit-learn\n",
    "\n",
    "zero = [0 for i in range(501-len(request['x1']))]\n",
    "request['x1'] = request['x1'] + zero\n",
    "request['y1'] = request['y1'] + zero\n",
    "request['z1'] = request['z1'] + zero\n",
    "request['v'] = request['v'] + zero\n",
    "\n",
    "\n",
    "row = []\n",
    "for i in range(len(request['x1'])):\n",
    "\trow.append(request['x1'][i])\n",
    "\trow.append(request['y1'][i])\n",
    "\trow.append(request['z1'][i])\n",
    "\trow.append(request['v'][i])\n"
   ]
  },
  {
   "cell_type": "code",
   "execution_count": 19,
   "metadata": {},
   "outputs": [],
   "source": [
    "import pandas as pd\n",
    "X = pd.DataFrame([row])\n",
    "# model.predict(X)"
   ]
  },
  {
   "cell_type": "code",
   "execution_count": 18,
   "metadata": {},
   "outputs": [],
   "source": [
    "arr = [0]*42"
   ]
  },
  {
   "cell_type": "code",
   "execution_count": 6,
   "metadata": {},
   "outputs": [
    {
     "name": "stdout",
     "output_type": "stream",
     "text": [
      "सुप्रभात!\n"
     ]
    }
   ],
   "source": [
    "from translate import Translator\n",
    "translator= Translator(to_lang=\"Hindi\")\n",
    "translation = translator.translate(\"Good Morning!\")\n",
    "print (translation)"
   ]
  },
  {
   "cell_type": "code",
   "execution_count": null,
   "metadata": {},
   "outputs": [],
   "source": []
  }
 ],
 "metadata": {
  "interpreter": {
   "hash": "374a2d3f291789a5cbc917bdd7b16d05787bd5509fddcec587d52f1b9c84aa58"
  },
  "kernelspec": {
   "display_name": "Python 3.9.6 ('asl': venv)",
   "language": "python",
   "name": "python3"
  },
  "language_info": {
   "codemirror_mode": {
    "name": "ipython",
    "version": 3
   },
   "file_extension": ".py",
   "mimetype": "text/x-python",
   "name": "python",
   "nbconvert_exporter": "python",
   "pygments_lexer": "ipython3",
   "version": "3.9.6"
  },
  "orig_nbformat": 4
 },
 "nbformat": 4,
 "nbformat_minor": 2
}
